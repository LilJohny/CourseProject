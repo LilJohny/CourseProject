{
 "cells": [
  {
   "cell_type": "code",
   "execution_count": 1,
   "metadata": {},
   "outputs": [],
   "source": [
    "import numpy as np\n",
    "import pandas as pd\n",
    "import nltk\n",
    "import re"
   ]
  },
  {
   "cell_type": "code",
   "execution_count": 2,
   "metadata": {},
   "outputs": [
    {
     "name": "stderr",
     "output_type": "stream",
     "text": [
      "[nltk_data] Downloading package punkt to\n",
      "[nltk_data]     C:\\Users\\Jack\\AppData\\Roaming\\nltk_data...\n",
      "[nltk_data]   Package punkt is already up-to-date!\n"
     ]
    },
    {
     "data": {
      "text/plain": [
       "True"
      ]
     },
     "execution_count": 2,
     "metadata": {},
     "output_type": "execute_result"
    }
   ],
   "source": [
    "nltk.download('punkt')"
   ]
  },
  {
   "cell_type": "code",
   "execution_count": 3,
   "metadata": {},
   "outputs": [],
   "source": [
    "df = pd.read_csv(\"tennis_articles_v4.csv\")"
   ]
  },
  {
   "cell_type": "code",
   "execution_count": 4,
   "metadata": {},
   "outputs": [
    {
     "data": {
      "text/plain": [
       "<bound method NDFrame.head of    article_id                                       article_text  \\\n",
       "0           1  Maria Sharapova has basically no friends as te...   \n",
       "1           2  BASEL, Switzerland (AP), Roger Federer advance...   \n",
       "2           3  Roger Federer has revealed that organisers of ...   \n",
       "3           4  Kei Nishikori will try to end his long losing ...   \n",
       "4           5  Federer, 37, first broke through on tour over ...   \n",
       "5           6  Nadal has not played tennis since he was force...   \n",
       "6           7  Tennis giveth, and tennis taketh away. The end...   \n",
       "7           8  Federer won the Swiss Indoors last week by bea...   \n",
       "\n",
       "                                              source  \n",
       "0  https://www.tennisworldusa.org/tennis/news/Mar...  \n",
       "1  http://www.tennis.com/pro-game/2018/10/copil-s...  \n",
       "2  https://scroll.in/field/899938/tennis-roger-fe...  \n",
       "3  http://www.tennis.com/pro-game/2018/10/nishiko...  \n",
       "4  https://www.express.co.uk/sport/tennis/1036101...  \n",
       "5  https://www.express.co.uk/sport/tennis/1037119...  \n",
       "6  http://www.tennis.com/pro-game/2018/10/tennisc...  \n",
       "7  https://www.express.co.uk/sport/tennis/1038186...  >"
      ]
     },
     "execution_count": 4,
     "metadata": {},
     "output_type": "execute_result"
    }
   ],
   "source": [
    "df.head"
   ]
  },
  {
   "cell_type": "code",
   "execution_count": 5,
   "metadata": {},
   "outputs": [
    {
     "data": {
      "text/plain": [
       "\"Maria Sharapova has basically no friends as tennis players on the WTA Tour. The Russian player has no problems in openly speaking about it and in a recent interview she said: 'I don't really hide any feelings too much. I think everyone knows this is my job here. When I'm on the courts or when I'm on the court playing, I'm a competitor and I want to beat every single person whether they're in the locker room or across the net.So I'm not the one to strike up a conversation about the weather and know that in the next few minutes I have to go and try to win a tennis match. I'm a pretty competitive girl. I say my hellos, but I'm not sending any players flowers as well. Uhm, I'm not really friendly or close to many players. I have not a lot of friends away from the courts.' When she said she is not really close to a lot of players, is that something strategic that she is doing? Is it different on the men's tour than the women's tour? 'No, not at all. I think just because you're in the same sport doesn't mean that you have to be friends with everyone just because you're categorized, you're a tennis player, so you're going to get along with tennis players. I think every person has different interests. I have friends that have completely different jobs and interests, and I've met them in very different parts of my life. I think everyone just thinks because we're tennis players we should be the greatest of friends. But ultimately tennis is just a very small part of what we do. There are so many other things that we're interested in, that we do.'\""
      ]
     },
     "execution_count": 5,
     "metadata": {},
     "output_type": "execute_result"
    }
   ],
   "source": [
    "df['article_text'][0]"
   ]
  },
  {
   "cell_type": "code",
   "execution_count": 6,
   "metadata": {},
   "outputs": [],
   "source": [
    "from nltk.tokenize import sent_tokenize"
   ]
  },
  {
   "cell_type": "code",
   "execution_count": 7,
   "metadata": {},
   "outputs": [],
   "source": [
    "sentences = []\n",
    "for st in df['article_text']:\n",
    "    sentences.append(sent_tokenize(st))"
   ]
  },
  {
   "cell_type": "code",
   "execution_count": 8,
   "metadata": {},
   "outputs": [
    {
     "data": {
      "text/plain": [
       "[['Maria Sharapova has basically no friends as tennis players on the WTA Tour.',\n",
       "  \"The Russian player has no problems in openly speaking about it and in a recent interview she said: 'I don't really hide any feelings too much.\",\n",
       "  'I think everyone knows this is my job here.',\n",
       "  \"When I'm on the courts or when I'm on the court playing, I'm a competitor and I want to beat every single person whether they're in the locker room or across the net.So I'm not the one to strike up a conversation about the weather and know that in the next few minutes I have to go and try to win a tennis match.\",\n",
       "  \"I'm a pretty competitive girl.\",\n",
       "  \"I say my hellos, but I'm not sending any players flowers as well.\",\n",
       "  \"Uhm, I'm not really friendly or close to many players.\",\n",
       "  \"I have not a lot of friends away from the courts.'\",\n",
       "  'When she said she is not really close to a lot of players, is that something strategic that she is doing?',\n",
       "  \"Is it different on the men's tour than the women's tour?\",\n",
       "  \"'No, not at all.\",\n",
       "  \"I think just because you're in the same sport doesn't mean that you have to be friends with everyone just because you're categorized, you're a tennis player, so you're going to get along with tennis players.\",\n",
       "  'I think every person has different interests.',\n",
       "  \"I have friends that have completely different jobs and interests, and I've met them in very different parts of my life.\",\n",
       "  \"I think everyone just thinks because we're tennis players we should be the greatest of friends.\",\n",
       "  'But ultimately tennis is just a very small part of what we do.',\n",
       "  \"There are so many other things that we're interested in, that we do.'\"],\n",
       " ['BASEL, Switzerland (AP), Roger Federer advanced to the 14th Swiss Indoors final of his career by beating seventh-seeded Daniil Medvedev 6-1, 6-4 on Saturday.',\n",
       "  'Seeking a ninth title at his hometown event, and a 99th overall, Federer will play 93th-ranked Marius Copil on Sunday.',\n",
       "  'Federer dominated the 20th-ranked Medvedev and had his first match-point chance to break serve again at 5-1.',\n",
       "  \"He then dropped his serve to love, and let another match point slip in Medvedev's next service game by netting a backhand.\",\n",
       "  'He clinched on his fourth chance when Medvedev netted from the baseline.',\n",
       "  'Copil upset expectations of a Federer final against Alexander Zverev in a 6-3, 6-7 (6), 6-4 win over the fifth-ranked German in the earlier semifinal.',\n",
       "  'The Romanian aims for a first title after arriving at Basel without a career win over a top-10 opponent.',\n",
       "  'Copil has two after also beating No.',\n",
       "  '6 Marin Cilic in the second round.',\n",
       "  'Copil fired 26 aces past Zverev and never dropped serve, clinching after 2 1/2 hours with a forehand volley winner to break Zverev for the second time in the semifinal.',\n",
       "  \"He came through two rounds of qualifying last weekend to reach the Basel main draw, including beating Zverev's older brother, Mischa.\",\n",
       "  'Federer had an easier time than in his only previous match against Medvedev, a three-setter at Shanghai two weeks ago.'],\n",
       " ['Roger Federer has revealed that organisers of the re-launched and condensed Davis Cup gave him three days to decide if he would commit to the controversial competition.',\n",
       "  'Speaking at the Swiss Indoors tournament where he will play in Sundays final against Romanian qualifier Marius Copil, the world number three said that given the impossibly short time frame to make a decision, he opted out of any commitment.',\n",
       "  '\"They only left me three days to decide\", Federer said.',\n",
       "  '\"I didn\\'t to have time to consult with all the people I had to consult.',\n",
       "  '\"I could not make a decision in that time, so I told them to do what they wanted.\"',\n",
       "  'The 20-time Grand Slam champion has voiced doubts about the wisdom of the one-week format to be introduced by organisers Kosmos, who have promised the International Tennis Federation up to $3 billion in prize money over the next quarter-century.',\n",
       "  'The competition is set to feature 18 countries in the November 18-24 finals in Madrid next year, and will replace the classic home-and-away ties played four times per year for decades.',\n",
       "  'Kosmos is headed by Barcelona footballer Gerard Pique, who is hoping fellow Spaniard Rafael Nadal will play in the upcoming event.',\n",
       "  \"Novak Djokovic has said he will give precedence to the ATP's intended re-launch of the defunct World Team Cup in January 2020, at various Australian venues.\",\n",
       "  'Major players feel that a big event in late November combined with one in January before the Australian Open will mean too much tennis and too little rest.',\n",
       "  'Federer said earlier this month in Shanghai in that his chances of playing the Davis Cup were all but non-existent.',\n",
       "  '\"I highly doubt it, of course.',\n",
       "  'We will see what happens,\" he said.',\n",
       "  '\"I do not think this was designed for me, anyhow.',\n",
       "  'This was designed for the future generation of players.\"',\n",
       "  'Argentina and Britain received wild cards to the new-look event, and will compete along with the four 2018 semi-finalists and the 12 teams who win qualifying rounds next February.',\n",
       "  '\"I don\\'t like being under that kind of pressure,\" Federer said of the deadline Kosmos handed him.'],\n",
       " ['Kei Nishikori will try to end his long losing streak in ATP finals and Kevin Anderson will go for his second title of the year at the Erste Bank Open on Sunday.',\n",
       "  'The fifth-seeded Nishikori reached his third final of 2018 after beating Mikhail Kukushkin of Kazakhstan 6-4, 6-3 in the semifinals.',\n",
       "  \"A winner of 11 ATP events, Nishikori hasn't triumphed since winning in Memphis in February 2016.\",\n",
       "  'He has lost eight straight finals since.',\n",
       "  'The second-seeded Anderson defeated Fernando Verdasco 6-3, 3-6, 6-4.',\n",
       "  'Anderson has a shot at a fifth career title and second of the year after winning in New York in February.',\n",
       "  'Nishikori leads Anderson 4-2 on career matchups, but the South African won their only previous meeting this year.',\n",
       "  'With a victory on Sunday, Anderson will qualify for the ATP Finals.',\n",
       "  'Currently in ninth place, Nishikori with a win could move to within 125 points of the cut for the eight-man event in London next month.',\n",
       "  'Nishikori held serve throughout against Kukushkin, who came through qualifying.',\n",
       "  'He used his first break point to close out the first set before going up 3-0 in the second and wrapping up the win on his first match point.',\n",
       "  'Against Verdasco, Anderson hit nine of his 19 aces in the opening set.',\n",
       "  \"The Spaniard broke Anderson twice in the second but didn't get another chance on the South African's serve in the final set.\"],\n",
       " ['Federer, 37, first broke through on tour over two decades ago and he has since gone on to enjoy a glittering career.',\n",
       "  'The 20-time Grand Slam winner is chasing his 99th ATP title at the Swiss Indoors this week and he faces Jan-Lennard Struff in the second round on Thursday (6pm BST).',\n",
       "  'Davenport enjoyed most of her success in the late 1990s and her third and final major tournament win came at the 2000 Australian Open.',\n",
       "  'But she claims the mentality of professional tennis players slowly began to change after the new millennium.',\n",
       "  '\"It seems pretty friendly right now,\" said Davenport.',\n",
       "  '\"I think there is a really nice environment and a great atmosphere, especially between some of the veteran players helping some of the younger players out.',\n",
       "  '\"It\\'s a very pleasant atmosphere, I\\'d have to say, around the locker rooms.',\n",
       "  '\"I felt like the best weeks that I had to get to know players when I was playing were the Fed Cup weeks or the Olympic weeks, not necessarily during the tournaments.',\n",
       "  '\"And even though maybe we had smaller teams, I still think we kept to ourselves quite a bit.',\n",
       "  '\"Not always, but I really feel like in the mid-2000 years there was a huge shift of the attitudes of the top players and being more friendly and being more giving, and a lot of that had to do with players like Roger coming up.',\n",
       "  '\"I just felt like it really kind of changed where people were a little bit, definitely in the 90s, a lot more quiet, into themselves, and then it started to become better.\"',\n",
       "  'Meanwhile, Federer is hoping he can improve his service game as he hunts his ninth Swiss Indoors title this week.',\n",
       "  '\"I didn\\'t serve very well [against first-round opponent Filip Kranjovic,\" Federer said.',\n",
       "  '\"I think I was misfiring the corners, I was not hitting the lines enough.',\n",
       "  '\"Clearly you make your life more difficult, but still I was up 6-2, 3-1, break points, so things could have ended very quickly today, even though I didn\\'t have the best serve percentage stats.',\n",
       "  '\"But maybe that\\'s exactly what caught up to me eventually.',\n",
       "  \"It's just getting used to it.\",\n",
       "  'This is where the first rounds can be tricky.\"'],\n",
       " ['Nadal has not played tennis since he was forced to retire from the US Open semi-finals against Juan Martin Del Porto with a knee injury.',\n",
       "  \"The world No 1 has been forced to miss Spain's Davis Cup clash with France and the Asian hard court season.\",\n",
       "  'But with the ATP World Tour Finals due to begin next month, Nadal is ready to prove his fitness before the season-ending event at the 02 Arena.',\n",
       "  'Nadal flew to Paris on Friday and footage from the Paris Masters official Twitter account shows the Spaniard smiling as he strides onto court for practice.',\n",
       "  'The Paris Masters draw has been made and Nadal will start his campaign on Tuesday or Wednesday against either Fernando Verdasco or Jeremy Chardy.',\n",
       "  'Nadal could then play defending champion Jack Sock in the third round before a potential quarter-final with either Borna Coric or Dominic Thiem.',\n",
       "  \"Nadal's appearance in Paris is a big boost to the tournament organisers who could see Roger Federer withdraw.\",\n",
       "  'Federer is in action at the Swiss Indoors in Basel and if he reaches the final, he could pull out of Paris in a bid to stay fresh for London.',\n",
       "  'But as it stands, Federer is in the draw and is scheduled to face either former world No 3 Milos Raonic or Jo-Wilfried Tsonga in the second round.',\n",
       "  \"Federer's projected route to the Paris final could also lead to matches against Kevin Anderson and Novak Djokovic.\",\n",
       "  'Djokovic could play Marco Cecchinato in the second round.',\n",
       "  'British No 1 Kyle Edmund is the 12th seed in Paris and will get underway in round two against either Karen Khachanov or Filip Krajinovic.'],\n",
       " ['Tennis giveth, and tennis taketh away.',\n",
       "  'The end of the season is finally in sight, and with so many players defending,or losing,huge chunks of points in Singapore, Zhuhai and London, podcast co-hosts Nina Pantic and Irina Falconi discuss the art of defending points (02:14).',\n",
       "  \"It's no secret that Jack Sock has struggled on the singles court this year (his record is 7-19).\",\n",
       "  'He could lose 1,400 points in the next few weeks, but instead of focusing on the negative, it can all be about perspective (06:28).',\n",
       "  \"Let's also not forget his two Grand Slam doubles triumphs this season.\",\n",
       "  'Two players, Stefanos Tsitsipas and Kyle Edmund, won their first career ATP titles last week (13:26).',\n",
       "  \"It's a big deal because you never forget your first.\",\n",
       "  'Irina looks back at her WTA title win in Bogota in 2016, and tells an unforgettable story about her semifinal drama (14:04).',\n",
       "  'In Singapore, one of the biggest storylines (aside from the matches, of course) has been the on-court coaching debate.',\n",
       "  'Nina and Irina give their opinions on what coaching should look like in the future, on both tours (18:55).'],\n",
       " ['Federer won the Swiss Indoors last week by beating Romanian qualifier Marius Copil in the final.',\n",
       "  'The 37-year-old claimed his 99th ATP title and is hunting the century in the French capital this week.',\n",
       "  'Federer has been handed a difficult draw where could could come across Kevin Anderson, Novak Djokovic and Rafael Nadal in the latter rounds.',\n",
       "  'But first the 20-time Grand Slam winner wants to train on the Paris Masters court this afternoon before deciding whether to appear for his opening match against either Milos Raonic or Jo-Wilfried Tsonga.',\n",
       "  '\"On Monday, I am free and will look how I feel,\" Federer said after winning the Swiss Indoors.',\n",
       "  '\"On Tuesday I will fly to Paris and train in the afternoon to be ready for my first match on Wednesday night.',\n",
       "  '\"I felt good all week and better every day.',\n",
       "  '\"We also had the impression that at this stage it might be better to play matches than to train.',\n",
       "  '\"And as long as I fear no injury, I play.\"',\n",
       "  \"Federer's success in Basel last week was the ninth time he has won his hometown tournament.\",\n",
       "  'And he was delighted to be watched on by all of his family and friends as he purchased 60 tickets for the final for those dearest to him.',\n",
       "  '\"My children, my parents, my sister and my team are all there,\" Federer added.',\n",
       "  '\"It is always very emotional for me to thank my team.',\n",
       "  'And sometimes it tilts with the emotions, sometimes I just stumble.',\n",
       "  '\"It means the world to me.',\n",
       "  'It makes me incredibly happy to win my home tournament and make people happy here.',\n",
       "  '\"I do not know if it\\'s maybe my last title, so today I try a lot more to absorb that and enjoy the moments much more consciously.',\n",
       "  '\"Maybe I should celebrate as if it were my last title.',\n",
       "  '\"There are very touching moments: seeing the ball children, the standing ovations, all the familiar faces in the audience.',\n",
       "  'Because it was not always easy in the last weeks.\"']]"
      ]
     },
     "execution_count": 8,
     "metadata": {},
     "output_type": "execute_result"
    }
   ],
   "source": [
    "sentences"
   ]
  },
  {
   "cell_type": "code",
   "execution_count": 9,
   "metadata": {},
   "outputs": [],
   "source": [
    "word_embeddings = {}\n",
    "f = open('glove.6B.100d.txt', encoding='utf-8')\n",
    "for line in f:\n",
    "    values = line.split()\n",
    "    word = values[0]\n",
    "    coefs = np.asarray(values[1:],dtype='float32')\n",
    "    word_embeddings[word] = coefs"
   ]
  },
  {
   "cell_type": "code",
   "execution_count": 10,
   "metadata": {},
   "outputs": [],
   "source": [
    "for article in sentences:\n",
    "    for i in range(len(article)):\n",
    "        article[i] = re.sub(r'[^a-zA-Z]', ' ', article[i])\n",
    "        article[i] = article[i].lower()"
   ]
  },
  {
   "cell_type": "code",
   "execution_count": 11,
   "metadata": {},
   "outputs": [
    {
     "data": {
      "text/plain": [
       "[['maria sharapova has basically no friends as tennis players on the wta tour ',\n",
       "  'the russian player has no problems in openly speaking about it and in a recent interview she said   i don t really hide any feelings too much ',\n",
       "  'i think everyone knows this is my job here ',\n",
       "  'when i m on the courts or when i m on the court playing  i m a competitor and i want to beat every single person whether they re in the locker room or across the net so i m not the one to strike up a conversation about the weather and know that in the next few minutes i have to go and try to win a tennis match ',\n",
       "  'i m a pretty competitive girl ',\n",
       "  'i say my hellos  but i m not sending any players flowers as well ',\n",
       "  'uhm  i m not really friendly or close to many players ',\n",
       "  'i have not a lot of friends away from the courts  ',\n",
       "  'when she said she is not really close to a lot of players  is that something strategic that she is doing ',\n",
       "  'is it different on the men s tour than the women s tour ',\n",
       "  ' no  not at all ',\n",
       "  'i think just because you re in the same sport doesn t mean that you have to be friends with everyone just because you re categorized  you re a tennis player  so you re going to get along with tennis players ',\n",
       "  'i think every person has different interests ',\n",
       "  'i have friends that have completely different jobs and interests  and i ve met them in very different parts of my life ',\n",
       "  'i think everyone just thinks because we re tennis players we should be the greatest of friends ',\n",
       "  'but ultimately tennis is just a very small part of what we do ',\n",
       "  'there are so many other things that we re interested in  that we do  '],\n",
       " ['basel  switzerland  ap   roger federer advanced to the   th swiss indoors final of his career by beating seventh seeded daniil medvedev          on saturday ',\n",
       "  'seeking a ninth title at his hometown event  and a   th overall  federer will play   th ranked marius copil on sunday ',\n",
       "  'federer dominated the   th ranked medvedev and had his first match point chance to break serve again at     ',\n",
       "  'he then dropped his serve to love  and let another match point slip in medvedev s next service game by netting a backhand ',\n",
       "  'he clinched on his fourth chance when medvedev netted from the baseline ',\n",
       "  'copil upset expectations of a federer final against alexander zverev in a                   win over the fifth ranked german in the earlier semifinal ',\n",
       "  'the romanian aims for a first title after arriving at basel without a career win over a top    opponent ',\n",
       "  'copil has two after also beating no ',\n",
       "  '  marin cilic in the second round ',\n",
       "  'copil fired    aces past zverev and never dropped serve  clinching after       hours with a forehand volley winner to break zverev for the second time in the semifinal ',\n",
       "  'he came through two rounds of qualifying last weekend to reach the basel main draw  including beating zverev s older brother  mischa ',\n",
       "  'federer had an easier time than in his only previous match against medvedev  a three setter at shanghai two weeks ago '],\n",
       " ['roger federer has revealed that organisers of the re launched and condensed davis cup gave him three days to decide if he would commit to the controversial competition ',\n",
       "  'speaking at the swiss indoors tournament where he will play in sundays final against romanian qualifier marius copil  the world number three said that given the impossibly short time frame to make a decision  he opted out of any commitment ',\n",
       "  ' they only left me three days to decide   federer said ',\n",
       "  ' i didn t to have time to consult with all the people i had to consult ',\n",
       "  ' i could not make a decision in that time  so i told them to do what they wanted  ',\n",
       "  'the    time grand slam champion has voiced doubts about the wisdom of the one week format to be introduced by organisers kosmos  who have promised the international tennis federation up to    billion in prize money over the next quarter century ',\n",
       "  'the competition is set to feature    countries in the november       finals in madrid next year  and will replace the classic home and away ties played four times per year for decades ',\n",
       "  'kosmos is headed by barcelona footballer gerard pique  who is hoping fellow spaniard rafael nadal will play in the upcoming event ',\n",
       "  'novak djokovic has said he will give precedence to the atp s intended re launch of the defunct world team cup in january       at various australian venues ',\n",
       "  'major players feel that a big event in late november combined with one in january before the australian open will mean too much tennis and too little rest ',\n",
       "  'federer said earlier this month in shanghai in that his chances of playing the davis cup were all but non existent ',\n",
       "  ' i highly doubt it  of course ',\n",
       "  'we will see what happens   he said ',\n",
       "  ' i do not think this was designed for me  anyhow ',\n",
       "  'this was designed for the future generation of players  ',\n",
       "  'argentina and britain received wild cards to the new look event  and will compete along with the four      semi finalists and the    teams who win qualifying rounds next february ',\n",
       "  ' i don t like being under that kind of pressure   federer said of the deadline kosmos handed him '],\n",
       " ['kei nishikori will try to end his long losing streak in atp finals and kevin anderson will go for his second title of the year at the erste bank open on sunday ',\n",
       "  'the fifth seeded nishikori reached his third final of      after beating mikhail kukushkin of kazakhstan          in the semifinals ',\n",
       "  'a winner of    atp events  nishikori hasn t triumphed since winning in memphis in february      ',\n",
       "  'he has lost eight straight finals since ',\n",
       "  'the second seeded anderson defeated fernando verdasco               ',\n",
       "  'anderson has a shot at a fifth career title and second of the year after winning in new york in february ',\n",
       "  'nishikori leads anderson     on career matchups  but the south african won their only previous meeting this year ',\n",
       "  'with a victory on sunday  anderson will qualify for the atp finals ',\n",
       "  'currently in ninth place  nishikori with a win could move to within     points of the cut for the eight man event in london next month ',\n",
       "  'nishikori held serve throughout against kukushkin  who came through qualifying ',\n",
       "  'he used his first break point to close out the first set before going up     in the second and wrapping up the win on his first match point ',\n",
       "  'against verdasco  anderson hit nine of his    aces in the opening set ',\n",
       "  'the spaniard broke anderson twice in the second but didn t get another chance on the south african s serve in the final set '],\n",
       " ['federer      first broke through on tour over two decades ago and he has since gone on to enjoy a glittering career ',\n",
       "  'the    time grand slam winner is chasing his   th atp title at the swiss indoors this week and he faces jan lennard struff in the second round on thursday   pm bst  ',\n",
       "  'davenport enjoyed most of her success in the late     s and her third and final major tournament win came at the      australian open ',\n",
       "  'but she claims the mentality of professional tennis players slowly began to change after the new millennium ',\n",
       "  ' it seems pretty friendly right now   said davenport ',\n",
       "  ' i think there is a really nice environment and a great atmosphere  especially between some of the veteran players helping some of the younger players out ',\n",
       "  ' it s a very pleasant atmosphere  i d have to say  around the locker rooms ',\n",
       "  ' i felt like the best weeks that i had to get to know players when i was playing were the fed cup weeks or the olympic weeks  not necessarily during the tournaments ',\n",
       "  ' and even though maybe we had smaller teams  i still think we kept to ourselves quite a bit ',\n",
       "  ' not always  but i really feel like in the mid      years there was a huge shift of the attitudes of the top players and being more friendly and being more giving  and a lot of that had to do with players like roger coming up ',\n",
       "  ' i just felt like it really kind of changed where people were a little bit  definitely in the   s  a lot more quiet  into themselves  and then it started to become better  ',\n",
       "  'meanwhile  federer is hoping he can improve his service game as he hunts his ninth swiss indoors title this week ',\n",
       "  ' i didn t serve very well  against first round opponent filip kranjovic   federer said ',\n",
       "  ' i think i was misfiring the corners  i was not hitting the lines enough ',\n",
       "  ' clearly you make your life more difficult  but still i was up           break points  so things could have ended very quickly today  even though i didn t have the best serve percentage stats ',\n",
       "  ' but maybe that s exactly what caught up to me eventually ',\n",
       "  'it s just getting used to it ',\n",
       "  'this is where the first rounds can be tricky  '],\n",
       " ['nadal has not played tennis since he was forced to retire from the us open semi finals against juan martin del porto with a knee injury ',\n",
       "  'the world no   has been forced to miss spain s davis cup clash with france and the asian hard court season ',\n",
       "  'but with the atp world tour finals due to begin next month  nadal is ready to prove his fitness before the season ending event at the    arena ',\n",
       "  'nadal flew to paris on friday and footage from the paris masters official twitter account shows the spaniard smiling as he strides onto court for practice ',\n",
       "  'the paris masters draw has been made and nadal will start his campaign on tuesday or wednesday against either fernando verdasco or jeremy chardy ',\n",
       "  'nadal could then play defending champion jack sock in the third round before a potential quarter final with either borna coric or dominic thiem ',\n",
       "  'nadal s appearance in paris is a big boost to the tournament organisers who could see roger federer withdraw ',\n",
       "  'federer is in action at the swiss indoors in basel and if he reaches the final  he could pull out of paris in a bid to stay fresh for london ',\n",
       "  'but as it stands  federer is in the draw and is scheduled to face either former world no   milos raonic or jo wilfried tsonga in the second round ',\n",
       "  'federer s projected route to the paris final could also lead to matches against kevin anderson and novak djokovic ',\n",
       "  'djokovic could play marco cecchinato in the second round ',\n",
       "  'british no   kyle edmund is the   th seed in paris and will get underway in round two against either karen khachanov or filip krajinovic '],\n",
       " ['tennis giveth  and tennis taketh away ',\n",
       "  'the end of the season is finally in sight  and with so many players defending or losing huge chunks of points in singapore  zhuhai and london  podcast co hosts nina pantic and irina falconi discuss the art of defending points         ',\n",
       "  'it s no secret that jack sock has struggled on the singles court this year  his record is       ',\n",
       "  'he could lose       points in the next few weeks  but instead of focusing on the negative  it can all be about perspective         ',\n",
       "  'let s also not forget his two grand slam doubles triumphs this season ',\n",
       "  'two players  stefanos tsitsipas and kyle edmund  won their first career atp titles last week         ',\n",
       "  'it s a big deal because you never forget your first ',\n",
       "  'irina looks back at her wta title win in bogota in       and tells an unforgettable story about her semifinal drama         ',\n",
       "  'in singapore  one of the biggest storylines  aside from the matches  of course  has been the on court coaching debate ',\n",
       "  'nina and irina give their opinions on what coaching should look like in the future  on both tours         '],\n",
       " ['federer won the swiss indoors last week by beating romanian qualifier marius copil in the final ',\n",
       "  'the    year old claimed his   th atp title and is hunting the century in the french capital this week ',\n",
       "  'federer has been handed a difficult draw where could could come across kevin anderson  novak djokovic and rafael nadal in the latter rounds ',\n",
       "  'but first the    time grand slam winner wants to train on the paris masters court this afternoon before deciding whether to appear for his opening match against either milos raonic or jo wilfried tsonga ',\n",
       "  ' on monday  i am free and will look how i feel   federer said after winning the swiss indoors ',\n",
       "  ' on tuesday i will fly to paris and train in the afternoon to be ready for my first match on wednesday night ',\n",
       "  ' i felt good all week and better every day ',\n",
       "  ' we also had the impression that at this stage it might be better to play matches than to train ',\n",
       "  ' and as long as i fear no injury  i play  ',\n",
       "  'federer s success in basel last week was the ninth time he has won his hometown tournament ',\n",
       "  'and he was delighted to be watched on by all of his family and friends as he purchased    tickets for the final for those dearest to him ',\n",
       "  ' my children  my parents  my sister and my team are all there   federer added ',\n",
       "  ' it is always very emotional for me to thank my team ',\n",
       "  'and sometimes it tilts with the emotions  sometimes i just stumble ',\n",
       "  ' it means the world to me ',\n",
       "  'it makes me incredibly happy to win my home tournament and make people happy here ',\n",
       "  ' i do not know if it s maybe my last title  so today i try a lot more to absorb that and enjoy the moments much more consciously ',\n",
       "  ' maybe i should celebrate as if it were my last title ',\n",
       "  ' there are very touching moments  seeing the ball children  the standing ovations  all the familiar faces in the audience ',\n",
       "  'because it was not always easy in the last weeks  ']]"
      ]
     },
     "execution_count": 11,
     "metadata": {},
     "output_type": "execute_result"
    }
   ],
   "source": [
    "sentences"
   ]
  },
  {
   "cell_type": "code",
   "execution_count": 12,
   "metadata": {},
   "outputs": [
    {
     "name": "stderr",
     "output_type": "stream",
     "text": [
      "[nltk_data] Downloading package stopwords to\n",
      "[nltk_data]     C:\\Users\\Jack\\AppData\\Roaming\\nltk_data...\n",
      "[nltk_data]   Package stopwords is already up-to-date!\n"
     ]
    },
    {
     "data": {
      "text/plain": [
       "True"
      ]
     },
     "execution_count": 12,
     "metadata": {},
     "output_type": "execute_result"
    }
   ],
   "source": [
    "nltk.download('stopwords')"
   ]
  },
  {
   "cell_type": "code",
   "execution_count": 13,
   "metadata": {},
   "outputs": [],
   "source": [
    "from nltk.corpus import stopwords"
   ]
  },
  {
   "cell_type": "code",
   "execution_count": 14,
   "metadata": {},
   "outputs": [],
   "source": [
    "stopwords = stopwords.words('english')"
   ]
  },
  {
   "cell_type": "code",
   "execution_count": 15,
   "metadata": {},
   "outputs": [
    {
     "data": {
      "text/plain": [
       "['i',\n",
       " 'me',\n",
       " 'my',\n",
       " 'myself',\n",
       " 'we',\n",
       " 'our',\n",
       " 'ours',\n",
       " 'ourselves',\n",
       " 'you',\n",
       " \"you're\",\n",
       " \"you've\",\n",
       " \"you'll\",\n",
       " \"you'd\",\n",
       " 'your',\n",
       " 'yours',\n",
       " 'yourself',\n",
       " 'yourselves',\n",
       " 'he',\n",
       " 'him',\n",
       " 'his',\n",
       " 'himself',\n",
       " 'she',\n",
       " \"she's\",\n",
       " 'her',\n",
       " 'hers',\n",
       " 'herself',\n",
       " 'it',\n",
       " \"it's\",\n",
       " 'its',\n",
       " 'itself',\n",
       " 'they',\n",
       " 'them',\n",
       " 'their',\n",
       " 'theirs',\n",
       " 'themselves',\n",
       " 'what',\n",
       " 'which',\n",
       " 'who',\n",
       " 'whom',\n",
       " 'this',\n",
       " 'that',\n",
       " \"that'll\",\n",
       " 'these',\n",
       " 'those',\n",
       " 'am',\n",
       " 'is',\n",
       " 'are',\n",
       " 'was',\n",
       " 'were',\n",
       " 'be',\n",
       " 'been',\n",
       " 'being',\n",
       " 'have',\n",
       " 'has',\n",
       " 'had',\n",
       " 'having',\n",
       " 'do',\n",
       " 'does',\n",
       " 'did',\n",
       " 'doing',\n",
       " 'a',\n",
       " 'an',\n",
       " 'the',\n",
       " 'and',\n",
       " 'but',\n",
       " 'if',\n",
       " 'or',\n",
       " 'because',\n",
       " 'as',\n",
       " 'until',\n",
       " 'while',\n",
       " 'of',\n",
       " 'at',\n",
       " 'by',\n",
       " 'for',\n",
       " 'with',\n",
       " 'about',\n",
       " 'against',\n",
       " 'between',\n",
       " 'into',\n",
       " 'through',\n",
       " 'during',\n",
       " 'before',\n",
       " 'after',\n",
       " 'above',\n",
       " 'below',\n",
       " 'to',\n",
       " 'from',\n",
       " 'up',\n",
       " 'down',\n",
       " 'in',\n",
       " 'out',\n",
       " 'on',\n",
       " 'off',\n",
       " 'over',\n",
       " 'under',\n",
       " 'again',\n",
       " 'further',\n",
       " 'then',\n",
       " 'once',\n",
       " 'here',\n",
       " 'there',\n",
       " 'when',\n",
       " 'where',\n",
       " 'why',\n",
       " 'how',\n",
       " 'all',\n",
       " 'any',\n",
       " 'both',\n",
       " 'each',\n",
       " 'few',\n",
       " 'more',\n",
       " 'most',\n",
       " 'other',\n",
       " 'some',\n",
       " 'such',\n",
       " 'no',\n",
       " 'nor',\n",
       " 'not',\n",
       " 'only',\n",
       " 'own',\n",
       " 'same',\n",
       " 'so',\n",
       " 'than',\n",
       " 'too',\n",
       " 'very',\n",
       " 's',\n",
       " 't',\n",
       " 'can',\n",
       " 'will',\n",
       " 'just',\n",
       " 'don',\n",
       " \"don't\",\n",
       " 'should',\n",
       " \"should've\",\n",
       " 'now',\n",
       " 'd',\n",
       " 'll',\n",
       " 'm',\n",
       " 'o',\n",
       " 're',\n",
       " 've',\n",
       " 'y',\n",
       " 'ain',\n",
       " 'aren',\n",
       " \"aren't\",\n",
       " 'couldn',\n",
       " \"couldn't\",\n",
       " 'didn',\n",
       " \"didn't\",\n",
       " 'doesn',\n",
       " \"doesn't\",\n",
       " 'hadn',\n",
       " \"hadn't\",\n",
       " 'hasn',\n",
       " \"hasn't\",\n",
       " 'haven',\n",
       " \"haven't\",\n",
       " 'isn',\n",
       " \"isn't\",\n",
       " 'ma',\n",
       " 'mightn',\n",
       " \"mightn't\",\n",
       " 'mustn',\n",
       " \"mustn't\",\n",
       " 'needn',\n",
       " \"needn't\",\n",
       " 'shan',\n",
       " \"shan't\",\n",
       " 'shouldn',\n",
       " \"shouldn't\",\n",
       " 'wasn',\n",
       " \"wasn't\",\n",
       " 'weren',\n",
       " \"weren't\",\n",
       " 'won',\n",
       " \"won't\",\n",
       " 'wouldn',\n",
       " \"wouldn't\"]"
      ]
     },
     "execution_count": 15,
     "metadata": {},
     "output_type": "execute_result"
    }
   ],
   "source": [
    "stopwords"
   ]
  },
  {
   "cell_type": "code",
   "execution_count": 16,
   "metadata": {},
   "outputs": [],
   "source": [
    "def remove_stopwords(sen):\n",
    "    ret_sen = ' '.join([word for word in sen if word not in stopwords])\n",
    "    return ret_sen"
   ]
  },
  {
   "cell_type": "code",
   "execution_count": 17,
   "metadata": {},
   "outputs": [],
   "source": [
    "clean_senteces = []\n",
    "for i in range(len(sentences)):\n",
    "    clean_senteces.extend(sentences[i])"
   ]
  },
  {
   "cell_type": "code",
   "execution_count": 18,
   "metadata": {},
   "outputs": [],
   "source": [
    "for i in range(len(clean_senteces)):\n",
    "    clean_senteces[i] = remove_stopwords(clean_senteces[i].split(' '))"
   ]
  },
  {
   "cell_type": "code",
   "execution_count": 19,
   "metadata": {},
   "outputs": [
    {
     "data": {
      "text/plain": [
       "['maria sharapova basically friends tennis players wta tour ',\n",
       " 'russian player problems openly speaking recent interview said   really hide feelings much ',\n",
       " 'think everyone knows job ',\n",
       " 'courts court playing  competitor want beat every single person whether locker room across net one strike conversation weather know next minutes go try win tennis match ',\n",
       " 'pretty competitive girl ',\n",
       " 'say hellos  sending players flowers well ',\n",
       " 'uhm  really friendly close many players ',\n",
       " 'lot friends away courts  ',\n",
       " 'said really close lot players  something strategic ',\n",
       " 'different men tour women tour ',\n",
       " '  ',\n",
       " 'think sport mean friends everyone categorized  tennis player  going get along tennis players ',\n",
       " 'think every person different interests ',\n",
       " 'friends completely different jobs interests  met different parts life ',\n",
       " 'think everyone thinks tennis players greatest friends ',\n",
       " 'ultimately tennis small part ',\n",
       " 'many things interested   ',\n",
       " 'basel  switzerland  ap   roger federer advanced   th swiss indoors final career beating seventh seeded daniil medvedev          saturday ',\n",
       " 'seeking ninth title hometown event    th overall  federer play   th ranked marius copil sunday ',\n",
       " 'federer dominated   th ranked medvedev first match point chance break serve     ',\n",
       " 'dropped serve love  let another match point slip medvedev next service game netting backhand ',\n",
       " 'clinched fourth chance medvedev netted baseline ',\n",
       " 'copil upset expectations federer final alexander zverev                   win fifth ranked german earlier semifinal ',\n",
       " 'romanian aims first title arriving basel without career win top    opponent ',\n",
       " 'copil two also beating ',\n",
       " '  marin cilic second round ',\n",
       " 'copil fired    aces past zverev never dropped serve  clinching       hours forehand volley winner break zverev second time semifinal ',\n",
       " 'came two rounds qualifying last weekend reach basel main draw  including beating zverev older brother  mischa ',\n",
       " 'federer easier time previous match medvedev  three setter shanghai two weeks ago ',\n",
       " 'roger federer revealed organisers launched condensed davis cup gave three days decide would commit controversial competition ',\n",
       " 'speaking swiss indoors tournament play sundays final romanian qualifier marius copil  world number three said given impossibly short time frame make decision  opted commitment ',\n",
       " ' left three days decide   federer said ',\n",
       " ' time consult people consult ',\n",
       " ' could make decision time  told wanted  ',\n",
       " '   time grand slam champion voiced doubts wisdom one week format introduced organisers kosmos  promised international tennis federation    billion prize money next quarter century ',\n",
       " 'competition set feature    countries november       finals madrid next year  replace classic home away ties played four times per year decades ',\n",
       " 'kosmos headed barcelona footballer gerard pique  hoping fellow spaniard rafael nadal play upcoming event ',\n",
       " 'novak djokovic said give precedence atp intended launch defunct world team cup january       various australian venues ',\n",
       " 'major players feel big event late november combined one january australian open mean much tennis little rest ',\n",
       " 'federer said earlier month shanghai chances playing davis cup non existent ',\n",
       " ' highly doubt  course ',\n",
       " 'see happens   said ',\n",
       " ' think designed  anyhow ',\n",
       " 'designed future generation players  ',\n",
       " 'argentina britain received wild cards new look event  compete along four      semi finalists    teams win qualifying rounds next february ',\n",
       " ' like kind pressure   federer said deadline kosmos handed ',\n",
       " 'kei nishikori try end long losing streak atp finals kevin anderson go second title year erste bank open sunday ',\n",
       " 'fifth seeded nishikori reached third final      beating mikhail kukushkin kazakhstan          semifinals ',\n",
       " 'winner    atp events  nishikori triumphed since winning memphis february      ',\n",
       " 'lost eight straight finals since ',\n",
       " 'second seeded anderson defeated fernando verdasco               ',\n",
       " 'anderson shot fifth career title second year winning new york february ',\n",
       " 'nishikori leads anderson     career matchups  south african previous meeting year ',\n",
       " 'victory sunday  anderson qualify atp finals ',\n",
       " 'currently ninth place  nishikori win could move within     points cut eight man event london next month ',\n",
       " 'nishikori held serve throughout kukushkin  came qualifying ',\n",
       " 'used first break point close first set going     second wrapping win first match point ',\n",
       " 'verdasco  anderson hit nine    aces opening set ',\n",
       " 'spaniard broke anderson twice second get another chance south african serve final set ',\n",
       " 'federer      first broke tour two decades ago since gone enjoy glittering career ',\n",
       " '   time grand slam winner chasing   th atp title swiss indoors week faces jan lennard struff second round thursday   pm bst  ',\n",
       " 'davenport enjoyed success late     third final major tournament win came      australian open ',\n",
       " 'claims mentality professional tennis players slowly began change new millennium ',\n",
       " ' seems pretty friendly right   said davenport ',\n",
       " ' think really nice environment great atmosphere  especially veteran players helping younger players ',\n",
       " ' pleasant atmosphere  say  around locker rooms ',\n",
       " ' felt like best weeks get know players playing fed cup weeks olympic weeks  necessarily tournaments ',\n",
       " ' even though maybe smaller teams  still think kept quite bit ',\n",
       " ' always  really feel like mid      years huge shift attitudes top players friendly giving  lot players like roger coming ',\n",
       " ' felt like really kind changed people little bit  definitely    lot quiet   started become better  ',\n",
       " 'meanwhile  federer hoping improve service game hunts ninth swiss indoors title week ',\n",
       " ' serve well  first round opponent filip kranjovic   federer said ',\n",
       " ' think misfiring corners  hitting lines enough ',\n",
       " ' clearly make life difficult  still           break points  things could ended quickly today  even though best serve percentage stats ',\n",
       " ' maybe exactly caught eventually ',\n",
       " 'getting used ',\n",
       " 'first rounds tricky  ',\n",
       " 'nadal played tennis since forced retire us open semi finals juan martin del porto knee injury ',\n",
       " 'world   forced miss spain davis cup clash france asian hard court season ',\n",
       " 'atp world tour finals due begin next month  nadal ready prove fitness season ending event    arena ',\n",
       " 'nadal flew paris friday footage paris masters official twitter account shows spaniard smiling strides onto court practice ',\n",
       " 'paris masters draw made nadal start campaign tuesday wednesday either fernando verdasco jeremy chardy ',\n",
       " 'nadal could play defending champion jack sock third round potential quarter final either borna coric dominic thiem ',\n",
       " 'nadal appearance paris big boost tournament organisers could see roger federer withdraw ',\n",
       " 'federer action swiss indoors basel reaches final  could pull paris bid stay fresh london ',\n",
       " 'stands  federer draw scheduled face either former world   milos raonic jo wilfried tsonga second round ',\n",
       " 'federer projected route paris final could also lead matches kevin anderson novak djokovic ',\n",
       " 'djokovic could play marco cecchinato second round ',\n",
       " 'british   kyle edmund   th seed paris get underway round two either karen khachanov filip krajinovic ',\n",
       " 'tennis giveth  tennis taketh away ',\n",
       " 'end season finally sight  many players defending losing huge chunks points singapore  zhuhai london  podcast co hosts nina pantic irina falconi discuss art defending points         ',\n",
       " 'secret jack sock struggled singles court year  record       ',\n",
       " 'could lose       points next weeks  instead focusing negative  perspective         ',\n",
       " 'let also forget two grand slam doubles triumphs season ',\n",
       " 'two players  stefanos tsitsipas kyle edmund  first career atp titles last week         ',\n",
       " 'big deal never forget first ',\n",
       " 'irina looks back wta title win bogota       tells unforgettable story semifinal drama         ',\n",
       " 'singapore  one biggest storylines  aside matches  course  court coaching debate ',\n",
       " 'nina irina give opinions coaching look like future  tours         ',\n",
       " 'federer swiss indoors last week beating romanian qualifier marius copil final ',\n",
       " '   year old claimed   th atp title hunting century french capital week ',\n",
       " 'federer handed difficult draw could could come across kevin anderson  novak djokovic rafael nadal latter rounds ',\n",
       " 'first    time grand slam winner wants train paris masters court afternoon deciding whether appear opening match either milos raonic jo wilfried tsonga ',\n",
       " ' monday  free look feel   federer said winning swiss indoors ',\n",
       " ' tuesday fly paris train afternoon ready first match wednesday night ',\n",
       " ' felt good week better every day ',\n",
       " ' also impression stage might better play matches train ',\n",
       " ' long fear injury  play  ',\n",
       " 'federer success basel last week ninth time hometown tournament ',\n",
       " 'delighted watched family friends purchased    tickets final dearest ',\n",
       " ' children  parents  sister team   federer added ',\n",
       " ' always emotional thank team ',\n",
       " 'sometimes tilts emotions  sometimes stumble ',\n",
       " ' means world ',\n",
       " 'makes incredibly happy win home tournament make people happy ',\n",
       " ' know maybe last title  today try lot absorb enjoy moments much consciously ',\n",
       " ' maybe celebrate last title ',\n",
       " ' touching moments  seeing ball children  standing ovations  familiar faces audience ',\n",
       " 'always easy last weeks  ']"
      ]
     },
     "execution_count": 19,
     "metadata": {},
     "output_type": "execute_result"
    }
   ],
   "source": [
    "clean_senteces"
   ]
  },
  {
   "cell_type": "code",
   "execution_count": 20,
   "metadata": {},
   "outputs": [],
   "source": [
    "word_embeddings = {}\n",
    "f = open('glove.6B.100d.txt', encoding='utf-8')\n",
    "for line in f:\n",
    "    values = line.split()\n",
    "    word = values[0]\n",
    "    coefs = np.asarray(values[1:], dtype='float32')\n",
    "    word_embeddings[word] = coefs\n",
    "f.close()"
   ]
  },
  {
   "cell_type": "code",
   "execution_count": 21,
   "metadata": {},
   "outputs": [],
   "source": [
    "sentece_vector = []\n",
    "for i in clean_senteces:\n",
    "    if len(i)!=0:\n",
    "        v = sum([word_embeddings.get(w, np.zeros((100,))) for w in i.split()])/(len(i.split())+0.001)\n",
    "    else:\n",
    "        v = np.zeroes(100,)\n",
    "    sentece_vector.append(v)"
   ]
  },
  {
   "cell_type": "code",
   "execution_count": 22,
   "metadata": {},
   "outputs": [],
   "source": [
    "sim_mat = np.zeros([len(sentences), len(sentences)])"
   ]
  },
  {
   "cell_type": "code",
   "execution_count": 23,
   "metadata": {},
   "outputs": [
    {
     "data": {
      "text/plain": [
       "array([[0., 0., 0., 0., 0., 0., 0., 0.],\n",
       "       [0., 0., 0., 0., 0., 0., 0., 0.],\n",
       "       [0., 0., 0., 0., 0., 0., 0., 0.],\n",
       "       [0., 0., 0., 0., 0., 0., 0., 0.],\n",
       "       [0., 0., 0., 0., 0., 0., 0., 0.],\n",
       "       [0., 0., 0., 0., 0., 0., 0., 0.],\n",
       "       [0., 0., 0., 0., 0., 0., 0., 0.],\n",
       "       [0., 0., 0., 0., 0., 0., 0., 0.]])"
      ]
     },
     "execution_count": 23,
     "metadata": {},
     "output_type": "execute_result"
    }
   ],
   "source": [
    "sim_mat"
   ]
  },
  {
   "cell_type": "code",
   "execution_count": 24,
   "metadata": {},
   "outputs": [],
   "source": [
    "from sklearn.metrics.pairwise import cosine_similarity"
   ]
  },
  {
   "cell_type": "code",
   "execution_count": 25,
   "metadata": {},
   "outputs": [],
   "source": [
    "for i in range(len(sentences)):\n",
    "    for j in range(len(sentences)):\n",
    "        if i != j:\n",
    "            sim_mat[i][j] = cosine_similarity(sentece_vector[i].reshape(1,100), sentece_vector[i].reshape(1,100))[0,0]"
   ]
  },
  {
   "cell_type": "code",
   "execution_count": 26,
   "metadata": {},
   "outputs": [
    {
     "data": {
      "text/plain": [
       "array([[0.        , 0.99999994, 0.99999994, 0.99999994, 0.99999994,\n",
       "        0.99999994, 0.99999994, 0.99999994],\n",
       "       [0.99999994, 0.        , 0.99999994, 0.99999994, 0.99999994,\n",
       "        0.99999994, 0.99999994, 0.99999994],\n",
       "       [1.        , 1.        , 0.        , 1.        , 1.        ,\n",
       "        1.        , 1.        , 1.        ],\n",
       "       [1.        , 1.        , 1.        , 0.        , 1.        ,\n",
       "        1.        , 1.        , 1.        ],\n",
       "       [0.99999982, 0.99999982, 0.99999982, 0.99999982, 0.        ,\n",
       "        0.99999982, 0.99999982, 0.99999982],\n",
       "       [0.99999976, 0.99999976, 0.99999976, 0.99999976, 0.99999976,\n",
       "        0.        , 0.99999976, 0.99999976],\n",
       "       [1.00000024, 1.00000024, 1.00000024, 1.00000024, 1.00000024,\n",
       "        1.00000024, 0.        , 1.00000024],\n",
       "       [0.99999988, 0.99999988, 0.99999988, 0.99999988, 0.99999988,\n",
       "        0.99999988, 0.99999988, 0.        ]])"
      ]
     },
     "execution_count": 26,
     "metadata": {},
     "output_type": "execute_result"
    }
   ],
   "source": [
    "sim_mat"
   ]
  },
  {
   "cell_type": "code",
   "execution_count": 27,
   "metadata": {},
   "outputs": [],
   "source": [
    "import networkx as nx"
   ]
  },
  {
   "cell_type": "code",
   "execution_count": 28,
   "metadata": {},
   "outputs": [],
   "source": [
    "nx_graph = nx.from_numpy_array(sim_mat)\n",
    "scores = nx.pagerank(nx_graph)"
   ]
  },
  {
   "cell_type": "code",
   "execution_count": 29,
   "metadata": {},
   "outputs": [
    {
     "data": {
      "text/plain": [
       "{0: 0.12499999974151006,\n",
       " 1: 0.12499999974151006,\n",
       " 2: 0.12500000077546822,\n",
       " 3: 0.12500000077546822,\n",
       " 4: 0.12499999146984475,\n",
       " 5: 0.12499998733401207,\n",
       " 6: 0.12500002869234028,\n",
       " 7: 0.12499999146984621}"
      ]
     },
     "execution_count": 29,
     "metadata": {},
     "output_type": "execute_result"
    }
   ],
   "source": [
    "scores"
   ]
  },
  {
   "cell_type": "code",
   "execution_count": 30,
   "metadata": {},
   "outputs": [],
   "source": [
    "ranked_sentences = sorted(((scores[i],s) for i,s in enumerate(sentences)), reverse=True)"
   ]
  },
  {
   "cell_type": "code",
   "execution_count": 32,
   "metadata": {},
   "outputs": [
    {
     "name": "stdout",
     "output_type": "stream",
     "text": [
      "['tennis giveth  and tennis taketh away ', 'the end of the season is finally in sight  and with so many players defending or losing huge chunks of points in singapore  zhuhai and london  podcast co hosts nina pantic and irina falconi discuss the art of defending points         ', 'it s no secret that jack sock has struggled on the singles court this year  his record is       ', 'he could lose       points in the next few weeks  but instead of focusing on the negative  it can all be about perspective         ', 'let s also not forget his two grand slam doubles triumphs this season ', 'two players  stefanos tsitsipas and kyle edmund  won their first career atp titles last week         ', 'it s a big deal because you never forget your first ', 'irina looks back at her wta title win in bogota in       and tells an unforgettable story about her semifinal drama         ', 'in singapore  one of the biggest storylines  aside from the matches  of course  has been the on court coaching debate ', 'nina and irina give their opinions on what coaching should look like in the future  on both tours         ']\n",
      "['roger federer has revealed that organisers of the re launched and condensed davis cup gave him three days to decide if he would commit to the controversial competition ', 'speaking at the swiss indoors tournament where he will play in sundays final against romanian qualifier marius copil  the world number three said that given the impossibly short time frame to make a decision  he opted out of any commitment ', ' they only left me three days to decide   federer said ', ' i didn t to have time to consult with all the people i had to consult ', ' i could not make a decision in that time  so i told them to do what they wanted  ', 'the    time grand slam champion has voiced doubts about the wisdom of the one week format to be introduced by organisers kosmos  who have promised the international tennis federation up to    billion in prize money over the next quarter century ', 'the competition is set to feature    countries in the november       finals in madrid next year  and will replace the classic home and away ties played four times per year for decades ', 'kosmos is headed by barcelona footballer gerard pique  who is hoping fellow spaniard rafael nadal will play in the upcoming event ', 'novak djokovic has said he will give precedence to the atp s intended re launch of the defunct world team cup in january       at various australian venues ', 'major players feel that a big event in late november combined with one in january before the australian open will mean too much tennis and too little rest ', 'federer said earlier this month in shanghai in that his chances of playing the davis cup were all but non existent ', ' i highly doubt it  of course ', 'we will see what happens   he said ', ' i do not think this was designed for me  anyhow ', 'this was designed for the future generation of players  ', 'argentina and britain received wild cards to the new look event  and will compete along with the four      semi finalists and the    teams who win qualifying rounds next february ', ' i don t like being under that kind of pressure   federer said of the deadline kosmos handed him ']\n",
      "['kei nishikori will try to end his long losing streak in atp finals and kevin anderson will go for his second title of the year at the erste bank open on sunday ', 'the fifth seeded nishikori reached his third final of      after beating mikhail kukushkin of kazakhstan          in the semifinals ', 'a winner of    atp events  nishikori hasn t triumphed since winning in memphis in february      ', 'he has lost eight straight finals since ', 'the second seeded anderson defeated fernando verdasco               ', 'anderson has a shot at a fifth career title and second of the year after winning in new york in february ', 'nishikori leads anderson     on career matchups  but the south african won their only previous meeting this year ', 'with a victory on sunday  anderson will qualify for the atp finals ', 'currently in ninth place  nishikori with a win could move to within     points of the cut for the eight man event in london next month ', 'nishikori held serve throughout against kukushkin  who came through qualifying ', 'he used his first break point to close out the first set before going up     in the second and wrapping up the win on his first match point ', 'against verdasco  anderson hit nine of his    aces in the opening set ', 'the spaniard broke anderson twice in the second but didn t get another chance on the south african s serve in the final set ']\n",
      "['maria sharapova has basically no friends as tennis players on the wta tour ', 'the russian player has no problems in openly speaking about it and in a recent interview she said   i don t really hide any feelings too much ', 'i think everyone knows this is my job here ', 'when i m on the courts or when i m on the court playing  i m a competitor and i want to beat every single person whether they re in the locker room or across the net so i m not the one to strike up a conversation about the weather and know that in the next few minutes i have to go and try to win a tennis match ', 'i m a pretty competitive girl ', 'i say my hellos  but i m not sending any players flowers as well ', 'uhm  i m not really friendly or close to many players ', 'i have not a lot of friends away from the courts  ', 'when she said she is not really close to a lot of players  is that something strategic that she is doing ', 'is it different on the men s tour than the women s tour ', ' no  not at all ', 'i think just because you re in the same sport doesn t mean that you have to be friends with everyone just because you re categorized  you re a tennis player  so you re going to get along with tennis players ', 'i think every person has different interests ', 'i have friends that have completely different jobs and interests  and i ve met them in very different parts of my life ', 'i think everyone just thinks because we re tennis players we should be the greatest of friends ', 'but ultimately tennis is just a very small part of what we do ', 'there are so many other things that we re interested in  that we do  ']\n",
      "['basel  switzerland  ap   roger federer advanced to the   th swiss indoors final of his career by beating seventh seeded daniil medvedev          on saturday ', 'seeking a ninth title at his hometown event  and a   th overall  federer will play   th ranked marius copil on sunday ', 'federer dominated the   th ranked medvedev and had his first match point chance to break serve again at     ', 'he then dropped his serve to love  and let another match point slip in medvedev s next service game by netting a backhand ', 'he clinched on his fourth chance when medvedev netted from the baseline ', 'copil upset expectations of a federer final against alexander zverev in a                   win over the fifth ranked german in the earlier semifinal ', 'the romanian aims for a first title after arriving at basel without a career win over a top    opponent ', 'copil has two after also beating no ', '  marin cilic in the second round ', 'copil fired    aces past zverev and never dropped serve  clinching after       hours with a forehand volley winner to break zverev for the second time in the semifinal ', 'he came through two rounds of qualifying last weekend to reach the basel main draw  including beating zverev s older brother  mischa ', 'federer had an easier time than in his only previous match against medvedev  a three setter at shanghai two weeks ago ']\n",
      "['federer won the swiss indoors last week by beating romanian qualifier marius copil in the final ', 'the    year old claimed his   th atp title and is hunting the century in the french capital this week ', 'federer has been handed a difficult draw where could could come across kevin anderson  novak djokovic and rafael nadal in the latter rounds ', 'but first the    time grand slam winner wants to train on the paris masters court this afternoon before deciding whether to appear for his opening match against either milos raonic or jo wilfried tsonga ', ' on monday  i am free and will look how i feel   federer said after winning the swiss indoors ', ' on tuesday i will fly to paris and train in the afternoon to be ready for my first match on wednesday night ', ' i felt good all week and better every day ', ' we also had the impression that at this stage it might be better to play matches than to train ', ' and as long as i fear no injury  i play  ', 'federer s success in basel last week was the ninth time he has won his hometown tournament ', 'and he was delighted to be watched on by all of his family and friends as he purchased    tickets for the final for those dearest to him ', ' my children  my parents  my sister and my team are all there   federer added ', ' it is always very emotional for me to thank my team ', 'and sometimes it tilts with the emotions  sometimes i just stumble ', ' it means the world to me ', 'it makes me incredibly happy to win my home tournament and make people happy here ', ' i do not know if it s maybe my last title  so today i try a lot more to absorb that and enjoy the moments much more consciously ', ' maybe i should celebrate as if it were my last title ', ' there are very touching moments  seeing the ball children  the standing ovations  all the familiar faces in the audience ', 'because it was not always easy in the last weeks  ']\n",
      "['federer      first broke through on tour over two decades ago and he has since gone on to enjoy a glittering career ', 'the    time grand slam winner is chasing his   th atp title at the swiss indoors this week and he faces jan lennard struff in the second round on thursday   pm bst  ', 'davenport enjoyed most of her success in the late     s and her third and final major tournament win came at the      australian open ', 'but she claims the mentality of professional tennis players slowly began to change after the new millennium ', ' it seems pretty friendly right now   said davenport ', ' i think there is a really nice environment and a great atmosphere  especially between some of the veteran players helping some of the younger players out ', ' it s a very pleasant atmosphere  i d have to say  around the locker rooms ', ' i felt like the best weeks that i had to get to know players when i was playing were the fed cup weeks or the olympic weeks  not necessarily during the tournaments ', ' and even though maybe we had smaller teams  i still think we kept to ourselves quite a bit ', ' not always  but i really feel like in the mid      years there was a huge shift of the attitudes of the top players and being more friendly and being more giving  and a lot of that had to do with players like roger coming up ', ' i just felt like it really kind of changed where people were a little bit  definitely in the   s  a lot more quiet  into themselves  and then it started to become better  ', 'meanwhile  federer is hoping he can improve his service game as he hunts his ninth swiss indoors title this week ', ' i didn t serve very well  against first round opponent filip kranjovic   federer said ', ' i think i was misfiring the corners  i was not hitting the lines enough ', ' clearly you make your life more difficult  but still i was up           break points  so things could have ended very quickly today  even though i didn t have the best serve percentage stats ', ' but maybe that s exactly what caught up to me eventually ', 'it s just getting used to it ', 'this is where the first rounds can be tricky  ']\n",
      "['nadal has not played tennis since he was forced to retire from the us open semi finals against juan martin del porto with a knee injury ', 'the world no   has been forced to miss spain s davis cup clash with france and the asian hard court season ', 'but with the atp world tour finals due to begin next month  nadal is ready to prove his fitness before the season ending event at the    arena ', 'nadal flew to paris on friday and footage from the paris masters official twitter account shows the spaniard smiling as he strides onto court for practice ', 'the paris masters draw has been made and nadal will start his campaign on tuesday or wednesday against either fernando verdasco or jeremy chardy ', 'nadal could then play defending champion jack sock in the third round before a potential quarter final with either borna coric or dominic thiem ', 'nadal s appearance in paris is a big boost to the tournament organisers who could see roger federer withdraw ', 'federer is in action at the swiss indoors in basel and if he reaches the final  he could pull out of paris in a bid to stay fresh for london ', 'but as it stands  federer is in the draw and is scheduled to face either former world no   milos raonic or jo wilfried tsonga in the second round ', 'federer s projected route to the paris final could also lead to matches against kevin anderson and novak djokovic ', 'djokovic could play marco cecchinato in the second round ', 'british no   kyle edmund is the   th seed in paris and will get underway in round two against either karen khachanov or filip krajinovic ']\n"
     ]
    },
    {
     "ename": "IndexError",
     "evalue": "list index out of range",
     "output_type": "error",
     "traceback": [
      "\u001b[1;31m---------------------------------------------------------------------------\u001b[0m",
      "\u001b[1;31mIndexError\u001b[0m                                Traceback (most recent call last)",
      "\u001b[1;32m<ipython-input-32-a4c7ad5294a6>\u001b[0m in \u001b[0;36m<module>\u001b[1;34m\u001b[0m\n\u001b[0;32m      1\u001b[0m \u001b[1;32mfor\u001b[0m \u001b[0mi\u001b[0m \u001b[1;32min\u001b[0m \u001b[0mrange\u001b[0m\u001b[1;33m(\u001b[0m\u001b[1;36m10\u001b[0m\u001b[1;33m)\u001b[0m\u001b[1;33m:\u001b[0m\u001b[1;33m\u001b[0m\u001b[1;33m\u001b[0m\u001b[0m\n\u001b[1;32m----> 2\u001b[1;33m   \u001b[0mprint\u001b[0m\u001b[1;33m(\u001b[0m\u001b[0mranked_sentences\u001b[0m\u001b[1;33m[\u001b[0m\u001b[0mi\u001b[0m\u001b[1;33m]\u001b[0m\u001b[1;33m[\u001b[0m\u001b[1;36m1\u001b[0m\u001b[1;33m]\u001b[0m\u001b[1;33m)\u001b[0m\u001b[1;33m\u001b[0m\u001b[1;33m\u001b[0m\u001b[0m\n\u001b[0m",
      "\u001b[1;31mIndexError\u001b[0m: list index out of range"
     ]
    }
   ],
   "source": [
    "for i in range(10):\n",
    "  print(ranked_sentences[i][1])"
   ]
  },
  {
   "cell_type": "code",
   "execution_count": null,
   "metadata": {},
   "outputs": [],
   "source": []
  }
 ],
 "metadata": {
  "kernelspec": {
   "display_name": "Python 3",
   "language": "python",
   "name": "python3"
  },
  "language_info": {
   "codemirror_mode": {
    "name": "ipython",
    "version": 3
   },
   "file_extension": ".py",
   "mimetype": "text/x-python",
   "name": "python",
   "nbconvert_exporter": "python",
   "pygments_lexer": "ipython3",
   "version": "3.7.2"
  }
 },
 "nbformat": 4,
 "nbformat_minor": 2
}
